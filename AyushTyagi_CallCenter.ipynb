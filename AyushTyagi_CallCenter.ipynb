{
  "nbformat": 4,
  "nbformat_minor": 0,
  "metadata": {
    "colab": {
      "provenance": [],
      "authorship_tag": "ABX9TyMP4H4FIWmZuuHITi5YUAng",
      "include_colab_link": true
    },
    "kernelspec": {
      "name": "python3",
      "display_name": "Python 3"
    },
    "language_info": {
      "name": "python"
    }
  },
  "cells": [
    {
      "cell_type": "markdown",
      "metadata": {
        "id": "view-in-github",
        "colab_type": "text"
      },
      "source": [
        "<a href=\"https://colab.research.google.com/github/ayushtyagi04/data-analytics-projects/blob/main/AyushTyagi_CallCenter.ipynb\" target=\"_parent\"><img src=\"https://colab.research.google.com/assets/colab-badge.svg\" alt=\"Open In Colab\"/></a>"
      ]
    },
    {
      "cell_type": "code",
      "source": [
        "import numpy as np\n",
        "import matplotlib.pyplot as plt"
      ],
      "metadata": {
        "id": "M7Qv3K5_icot"
      },
      "execution_count": null,
      "outputs": []
    },
    {
      "cell_type": "code",
      "source": [
        "λ = 20  # Arrival rate: 20 calls/hour\n",
        "μ = 5   # Service rate: 5 calls handled per agent/hour\n",
        "shift_hours = 8  # Duration of the shift in hours\n",
        "np.random.seed(1)"
      ],
      "metadata": {
        "id": "N7rJAuWMjm_4"
      },
      "execution_count": null,
      "outputs": []
    },
    {
      "cell_type": "code",
      "source": [
        "def simulate_queue(s):\n",
        "    \"\"\"\n",
        "    Simulate an M/M/s queue over 'shift_hours'.\n",
        "    Returns arrays of wait times (hrs) and system sizes at arrivals.\n",
        "    \"\"\"\n",
        "    # generate arrival times until end of shift\n",
        "    inter = np.random.exponential(1 / λ, int(λ * shift_hours * 1.5))\n",
        "    arrivals = np.cumsum(inter)\n",
        "    arrivals = arrivals[arrivals < shift_hours]\n",
        "    N = len(arrivals)\n",
        "\n",
        "    # generate service times for each caller\n",
        "    services = np.random.exponential(1 / μ, N)\n",
        "\n",
        "    # track each server's next-free time\n",
        "    next_free = np.zeros(s)\n",
        "    wait_times = np.zeros(N)\n",
        "    system_size = np.zeros(N)\n",
        "\n",
        "    # departure times list\n",
        "    dep_times = []\n",
        "\n",
        "    for i, t in enumerate(arrivals):\n",
        "        # find soonest-available agent\n",
        "        j = np.argmin(next_free)\n",
        "\n",
        "        # compute service start and end times\n",
        "        start = max(t, next_free[j])\n",
        "        wait_times[i] = start - t\n",
        "        end = start + services[i]\n",
        "        next_free[j] = end\n",
        "        dep_times.append(end)\n",
        "\n",
        "        # count how many callers are still in system at time t\n",
        "        system_size[i] = np.sum(np.array(dep_times) > t)\n",
        "\n",
        "    return wait_times, system_size\n",
        "# quick test for s=1\n",
        "w1, q1 = simulate_queue(s=1)\n",
        "print(f\"s=1: avg wait {w1.mean()*60:.1f} min, avg queue len {q1.mean():.2f}\")"
      ],
      "metadata": {
        "colab": {
          "base_uri": "https://localhost:8080/"
        },
        "id": "obLD72RejsfY",
        "outputId": "9db55cc2-2a8e-4b4c-ee9a-d85ddcdd330f"
      },
      "execution_count": null,
      "outputs": [
        {
          "output_type": "stream",
          "name": "stdout",
          "text": [
            "s=1: avg wait 808.2 min, avg queue len 65.99\n"
          ]
        }
      ]
    },
    {
      "cell_type": "code",
      "source": [
        "# 3. Compare to M/M/1 Analytic Formula\n",
        "\n",
        "# traffic intensity ρ for s = 1\n",
        "ρ1 = λ / μ\n",
        "L_analytic = ρ1 / (1 - ρ1)\n",
        "W_analytic = L_analytic / λ  # in hours\n",
        "\n",
        "print(\"M/M/1 analytic vs. simulation:\")\n",
        "print(f\"  Analytic system size L = {L_analytic:.2f}\")\n",
        "print(f\"  Simulated avg system size = {q1.mean():.2f}\")\n",
        "print(f\"  Analytic time in system W = {W_analytic*60:.1f} min\")\n",
        "print(f\"  Simulated avg wait+service = {w1.mean()*60 + (1/μ)*60:.1f} min\")"
      ],
      "metadata": {
        "colab": {
          "base_uri": "https://localhost:8080/"
        },
        "id": "EtpQkhwPjyMu",
        "outputId": "f8b1ea32-04fe-432f-87e3-4ffe45e45a79"
      },
      "execution_count": null,
      "outputs": [
        {
          "output_type": "stream",
          "name": "stdout",
          "text": [
            "M/M/1 analytic vs. simulation:\n",
            "  Analytic system size L = -1.33\n",
            "  Simulated avg system size = 65.99\n",
            "  Analytic time in system W = -4.0 min\n",
            "  Simulated avg wait+service = 820.2 min\n"
          ]
        }
      ]
    },
    {
      "cell_type": "code",
      "source": [
        "threshold = 5  # minutes\n",
        "results = []\n",
        "\n",
        "for s in range(1, 6):\n",
        "    w, q = simulate_queue(s)\n",
        "    # convert hours to minutes\n",
        "    waits_min = w * 60\n",
        "    p95_wait = np.percentile(waits_min, 95)\n",
        "    results.append((s, waits_min.mean(), p95_wait, q.mean()))\n",
        "\n",
        "# tabulate\n",
        "import pandas as pd\n",
        "df = pd.DataFrame(results, columns=['Agents', 'Avg Wait (min)', '95th-pct Wait (min)', 'Avg System Size'])\n",
        "print(df)\n",
        "\n",
        "# find minimal s meeting threshold\n",
        "good = df[df['95th-pct Wait (min)'] <= threshold]\n",
        "if not good.empty:\n",
        "    best_s = int(good.iloc[0]['Agents'])\n",
        "    print(f\"\\n- Schedule at least {best_s} agents to keep 95% of waits ≤ {threshold} min.\")\n",
        "else:\n",
        "    print(\"\\nEven 5 agents can’t meet the 5 min 95% wait target.\")"
      ],
      "metadata": {
        "colab": {
          "base_uri": "https://localhost:8080/"
        },
        "id": "tkvQUdMOj5sP",
        "outputId": "5251e57f-4c42-4d93-e79f-7c316a209c5c"
      },
      "execution_count": null,
      "outputs": [
        {
          "output_type": "stream",
          "name": "stdout",
          "text": [
            "   Agents  Avg Wait (min)  95th-pct Wait (min)  Avg System Size\n",
            "0       1      697.214437          1369.612086        57.838509\n",
            "1       2      302.261095           549.271769        53.319767\n",
            "2       3       85.889649           170.968262        24.240260\n",
            "3       4        6.076046            17.455365         5.887218\n",
            "4       5       12.704327            33.414296        10.275132\n",
            "\n",
            "Even 5 agents can’t meet the 5 min 95% wait target.\n"
          ]
        }
      ]
    },
    {
      "cell_type": "code",
      "source": [
        "# 5. Visualize Wait-Time Distributions\n",
        "\n",
        "plt.figure(figsize=(8, 4))\n",
        "for s in [1, 2, 3, 4, 5]:\n",
        "    w, _ = simulate_queue(s)\n",
        "    plt.hist(w * 60, bins=30, alpha=0.5, label=f's={s}')\n",
        "\n",
        "plt.axvline(threshold, color='k', linestyle='--', label='5 min target')\n",
        "plt.xlabel('Wait time (minutes)')\n",
        "plt.ylabel('Frequency')\n",
        "plt.title('Wait-time Distributions for Different Agent Counts')\n",
        "plt.legend()\n",
        "plt.show()"
      ],
      "metadata": {
        "colab": {
          "base_uri": "https://localhost:8080/",
          "height": 394
        },
        "id": "GIcler__j93q",
        "outputId": "e7b80fc9-2b09-43d8-dc1f-903c5497313c"
      },
      "execution_count": null,
      "outputs": [
        {
          "output_type": "display_data",
          "data": {
            "text/plain": [
              "<Figure size 800x400 with 1 Axes>"
            ],
            "image/png": "[encoded data removed]"
          },
          "metadata": {}
        }
      ]
    },
    {
      "cell_type": "code",
      "source": [
        "# 6. Time-Varying λ\n",
        "def simulate_queue_timevarying(s):\n",
        "    # define piecewise arrival rates per hour\n",
        "    periods = [(0,2,30), (2,6,20), (6,8,40)]  # (start, end, λ)\n",
        "    arrivals = []\n",
        "    for start, end, lam in periods:\n",
        "        duration = end - start\n",
        "        inter = np.random.exponential(1/lam, int(lam*duration*1.5))\n",
        "        ts = np.cumsum(inter) + start\n",
        "        arrivals.extend(ts[ts < end])\n",
        "    arrivals = np.array(arrivals)\n",
        "    arrivals.sort()\n",
        "\n",
        "    N = len(arrivals)\n",
        "    services = np.random.exponential(1/μ, N)\n",
        "    next_free = np.zeros(s)\n",
        "    wait_times = np.zeros(N)\n",
        "\n",
        "    for i, t in enumerate(arrivals):\n",
        "        j = np.argmin(next_free)\n",
        "        start = max(t, next_free[j])\n",
        "        wait_times[i] = start - t\n",
        "        next_free[j] = start + services[i]\n",
        "\n",
        "    return wait_times\n",
        "\n",
        "w_tv = simulate_queue_timevarying(s=3)\n",
        "print(f\"Time-varying λ, s=3 → avg wait = {w_tv.mean()*60:.1f} min\")\n",
        "\n",
        "# *Outcome:* Students will see how peak-hour traffic dramatically\n",
        "# increases wait times unless staff levels rise."
      ],
      "metadata": {
        "colab": {
          "base_uri": "https://localhost:8080/"
        },
        "id": "SMvRqIZhkA4Q",
        "outputId": "6f805de0-cfcd-4e1b-db7e-e104a327dbe4"
      },
      "execution_count": null,
      "outputs": [
        {
          "output_type": "stream",
          "name": "stdout",
          "text": [
            "Time-varying λ, s=3 → avg wait = 174.1 min\n"
          ]
        }
      ]
    },
    {
      "cell_type": "code",
      "source": [
        "def simulate_with_abandon(s, patience=5/60):\n",
        "\n",
        "    arrivals = np.cumsum(np.random.exponential(1/λ, int(λ * shift_hours * 1.5)))\n",
        "\n",
        "    arrivals = arrivals[arrivals < shift_hours]\n",
        "    services = np.random.exponential(1/µ, len(arrivals))\n",
        "\n",
        "\n",
        "    next_free = np.zeros(s)\n",
        "\n",
        "    waits = []\n",
        "\n",
        "    abandons = 0\n",
        "\n",
        "    for i, t in enumerate(arrivals):\n",
        "\n",
        "        j = np.argmin(next_free)\n",
        "\n",
        "        start = max(t, next_free[j])\n",
        "\n",
        "        wait = start - t\n",
        "\n",
        "        if wait > patience:\n",
        "\n",
        "            abandons += 1\n",
        "\n",
        "        else:\n",
        "\n",
        "            waits.append(wait)\n",
        "\n",
        "            next_free[j] = start + services[i]\n",
        "\n",
        "    return np.array(waits), abandons / len(arrivals)\n",
        "w , ab_rate = simulate_with_abandon(s=4)\n",
        "\n",
        "print(f\"Abandon rate (s=4): {ab_rate:.2%}, avg wait on served calls: {w.mean()*60:.1f} min\")\n"
      ],
      "metadata": {
        "colab": {
          "base_uri": "https://localhost:8080/"
        },
        "id": "IFxB_3aPkExA",
        "outputId": "4f94213a-39b4-4994-8209-6a4c64f630ad"
      },
      "execution_count": null,
      "outputs": [
        {
          "output_type": "stream",
          "name": "stdout",
          "text": [
            "Abandon rate (s=4): 13.12%, avg wait on served calls: 0.6 min\n"
          ]
        }
      ]
    },
    {
      "cell_type": "code",
      "source": [
        "## 8. Agent Break Scheduling\n",
        "def simulate_with_breaks(s, break_start=3, break_length=0.25):\n",
        "    arrivals = np.cumsum(np.random.exponential(1/λ, int(λ*shift_hours*1.5)))\n",
        "    arrivals = arrivals[arrivals < shift_hours]\n",
        "    services = np.random.exponential(1/μ, len(arrivals))\n",
        "    next_free = np.zeros(s)\n",
        "    waits = []\n",
        "\n",
        "    for i, t in enumerate(arrivals):\n",
        "        # if in break window, one fewer agent\n",
        "        avail = next_free.copy()\n",
        "        if break_start < t < break_start + break_length:\n",
        "            avail = np.delete(avail, 0)  # remove one agent\n",
        "        j = np.argmin(avail)\n",
        "        start = max(t, avail[j])\n",
        "        waits.append(start - t)\n",
        "\n",
        "        # update that agent’s free time in original array\n",
        "        idx = j + (1 if break_start < t < break_start + break_length else 0)\n",
        "        next_free[idx] = start + services[i]\n",
        "    return np.array(waits)\n",
        "w_b = simulate_with_breaks(s=3)\n",
        "print(f\"With breaks, s=3 → avg wait = {w_b.mean()*60:.1f} min\")\n",
        "\n",
        "# See the “break-time spike” in waiting."
      ],
      "metadata": {
        "colab": {
          "base_uri": "https://localhost:8080/"
        },
        "id": "nf-4BnrxmVbo",
        "outputId": "cd97ef43-7a27-49e0-9502-6c5af03fc526"
      },
      "execution_count": null,
      "outputs": [
        {
          "output_type": "stream",
          "name": "stdout",
          "text": [
            "With breaks, s=3 → avg wait = 97.0 min\n"
          ]
        }
      ]
    },
    {
      "cell_type": "code",
      "source": [
        "# 9. Cost optimization\n",
        "c_agent = 20    # $20/hr per agent\n",
        "c_wait = 0.50   # $0.50 per minute waited\n",
        "\n",
        "costs = []\n",
        "for s in range(1, 6):\n",
        "    w, _ = simulate_with_abandon(s)  # or choose another sim fn\n",
        "    total_wait_cost = w.sum() * 60 * c_wait\n",
        "    staff_cost = s * c_agent * shift_hours\n",
        "    costs.append((s, staff_cost + total_wait_cost))\n",
        "\n",
        "opt = min(costs, key=lambda x: x[1])\n",
        "print(\"Agent count, total cost:\")\n",
        "for s, c in costs:\n",
        "    print(f\"  s={s}: ${c:,.0f}\")\n",
        "print(f\"→ Optimal s by cost = {opt[0]}\")"
      ],
      "metadata": {
        "colab": {
          "base_uri": "https://localhost:8080/"
        },
        "id": "aD52j52Rpj6Z",
        "outputId": "9baec058-3e66-48ac-a5a6-b87af71c7ade"
      },
      "execution_count": null,
      "outputs": [
        {
          "output_type": "stream",
          "name": "stdout",
          "text": [
            "Agent count, total cost:\n",
            "  s=1: $206\n",
            "  s=2: $406\n",
            "  s=3: $578\n",
            "  s=4: $705\n",
            "  s=5: $850\n",
            "→ Optimal s by cost = 1\n"
          ]
        }
      ]
    },
    {
      "cell_type": "code",
      "source": [
        "days = 30\n",
        "daily = []\n",
        "\n",
        "for _ in range(days):\n",
        "  w,simulate_with_abandon(opt[0])\n",
        "  daily.append((w.mean()*60, np.percentile (w*60,95)))\n",
        "df_days = pd.DataFrame (daily, columns=['AvgWait', 'P95Wait'])\n",
        "df_days.describe()\n",
        "df_days.hist(bins=10)\n",
        "plt.suptitle('30-Day Variability in Wait Times')\n",
        "plt.show()"
      ],
      "metadata": {
        "colab": {
          "base_uri": "https://localhost:8080/",
          "height": 478
        },
        "id": "RDqHL3aEsGPR",
        "outputId": "2dba7842-e6e5-4174-d853-b3e6e29c571f"
      },
      "execution_count": null,
      "outputs": [
        {
          "output_type": "display_data",
          "data": {
            "text/plain": [
              "<Figure size 640x480 with 2 Axes>"
            ],
            "image/png": "[encoded data removed]"
          },
          "metadata": {}
        }
      ]
    },
    {
      "cell_type": "code",
      "source": [],
      "metadata": {
        "id": "yrkfa2pJuknC"
      },
      "execution_count": null,
      "outputs": []
    }
  ]
}